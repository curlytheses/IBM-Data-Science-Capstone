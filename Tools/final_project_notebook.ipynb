{
 "cells": [
  {
   "cell_type": "markdown",
   "id": "c62620c6",
   "metadata": {},
   "source": [
    "# Final Project Notebook\n"
   ]
  },
  {
   "cell_type": "markdown",
   "id": "73f5bcb4",
   "metadata": {},
   "source": [
    "## Introduction\n",
    "\n",
    "This notebook contains various exercises for the final project.\n"
   ]
  },
  {
   "cell_type": "markdown",
   "id": "24c208fc",
   "metadata": {},
   "source": [
    "### Data Science Languages\n",
    "\n",
    "- Python\n",
    "- R\n",
    "- SQL\n",
    "- Julia\n",
    "- Scala\n"
   ]
  },
  {
   "cell_type": "markdown",
   "id": "96d793be",
   "metadata": {},
   "source": [
    "### Data Science Libraries\n",
    "\n",
    "- Pandas\n",
    "- NumPy\n",
    "- Scikit-learn\n",
    "- TensorFlow\n",
    "- Keras\n"
   ]
  },
  {
   "cell_type": "markdown",
   "id": "0b889b9b",
   "metadata": {},
   "source": [
    "### Data Science Tools Table\n",
    "\n",
    "| Tool | Type |\n",
    "|------|------|\n",
    "| Jupyter | IDE |\n",
    "| RStudio | IDE |\n",
    "| Tableau | Visualization |\n",
    "| GitHub | Version Control |\n"
   ]
  },
  {
   "cell_type": "markdown",
   "id": "518662bf",
   "metadata": {},
   "source": [
    "## Arithmetic Expression Examples\n",
    "\n",
    "In the following exercises, we will demonstrate simple arithmetic operations.\n"
   ]
  },
  {
   "cell_type": "code",
   "execution_count": null,
   "id": "0bd9815c",
   "metadata": {},
   "outputs": [],
   "source": [
    "# Exercise 8 - Arithmetic operations\n",
    "2 * 3 + 5\n"
   ]
  },
  {
   "cell_type": "code",
   "execution_count": null,
   "id": "cb18d5c5",
   "metadata": {},
   "outputs": [],
   "source": [
    "# Exercise 9 - Convert minutes to hours\n",
    "minutes = 120\n",
    "hours = minutes / 60\n",
    "hours\n"
   ]
  },
  {
   "cell_type": "markdown",
   "id": "c0abdd03",
   "metadata": {},
   "source": [
    "### Objectives\n",
    "\n",
    "- To understand the basics of Data Science.\n",
    "- To learn how to manipulate data using various libraries.\n",
    "- To present data through visualizations.\n"
   ]
  },
  {
   "cell_type": "markdown",
   "id": "23539959",
   "metadata": {},
   "source": [
    "### Author\n",
    "\n",
    "- WONG TEIK MUN\n"
   ]
  }
 ],
 "metadata": {
  "language_info": {
   "name": "python"
  }
 },
 "nbformat": 4,
 "nbformat_minor": 5
}
